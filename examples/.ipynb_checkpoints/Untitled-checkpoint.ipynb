{
 "cells": [
  {
   "cell_type": "code",
   "execution_count": 17,
   "metadata": {},
   "outputs": [],
   "source": [
    "from pybullet_utils import bullet_client\n",
    "import pybullet as p\n",
    "import pybullet_data\n",
    "\n",
    "import math\n",
    "import numpy as np"
   ]
  },
  {
   "cell_type": "code",
   "execution_count": 2,
   "metadata": {},
   "outputs": [],
   "source": [
    "BASE_LINK_ID = -1\n",
    "\n",
    "_client = bullet_client.BulletClient(connection_mode=p.DIRECT)\n",
    "_client.configureDebugVisualizer(p.COV_ENABLE_Y_AXIS_UP, 1)\n",
    "_client.setAdditionalSearchPath(\"./data\")"
   ]
  },
  {
   "cell_type": "code",
   "execution_count": 3,
   "metadata": {},
   "outputs": [],
   "source": [
    "z2y = p.getQuaternionFromEuler([-math.pi * 0.5, 0, 0])\n"
   ]
  },
  {
   "cell_type": "code",
   "execution_count": 34,
   "metadata": {},
   "outputs": [],
   "source": [
    "class Humanoid:\n",
    "    def __init__(self):\n",
    "        self.robotId = _client.loadURDF(\n",
    "            \"humanoid.urdf\",\n",
    "            [0, 0, 0], \n",
    "            globalScaling=0.25\n",
    "        )\n",
    "\n",
    "        self.num_joints = p.getNumJoints(self.robotId)\n",
    "        self._record_masses()\n",
    "    \n",
    "    def _record_masses(self):\n",
    "        jointIndices = range(self.num_joints)\n",
    "        masses = []\n",
    "        for j in jointIndices:\n",
    "            info = p.getDynamicsInfo(self.robotId, j)\n",
    "            masses.append(info[0])\n",
    "        self.masses = np.array(masses)\n",
    "        self.total_mass = np.sum(self.masses)\n",
    "\n",
    "    def calcCOM(self, model):\n",
    "        jointIndices = range(self.num_joints)\n",
    "        link_states = p.getLinkStates(model, jointIndices)\n",
    "        coms = np.array([s[0] for s in link_states])\n",
    "        com = np.matmul(masses, coms) / self.total_mass\n",
    "        return com\n",
    "    \n",
    "    def calcCOMVel(self, model):\n",
    "        jointIndices = range(self.num_joints)\n",
    "        link_states = p.getLinkStates(\n",
    "                        model, \n",
    "                        jointIndices, \n",
    "                        computeLinkVelocity=1)\n",
    "        coms = np.array([s[6] for s in link_states])\n",
    "        com = np.matmul(masses, coms) / self.total_mass\n",
    "        return com"
   ]
  },
  {
   "cell_type": "code",
   "execution_count": 35,
   "metadata": {},
   "outputs": [],
   "source": [
    "h = Humanoid()"
   ]
  },
  {
   "cell_type": "code",
   "execution_count": 37,
   "metadata": {},
   "outputs": [
    {
     "data": {
      "text/plain": [
       "array([-1.20666667e-03,  1.07486889e-02,  1.23358114e-18])"
      ]
     },
     "execution_count": 37,
     "metadata": {},
     "output_type": "execute_result"
    }
   ],
   "source": [
    "h.calcCOM(h.robotId)"
   ]
  },
  {
   "cell_type": "code",
   "execution_count": null,
   "metadata": {},
   "outputs": [],
   "source": []
  }
 ],
 "metadata": {
  "kernelspec": {
   "display_name": "Python 3",
   "language": "python",
   "name": "python3"
  },
  "language_info": {
   "codemirror_mode": {
    "name": "ipython",
    "version": 3
   },
   "file_extension": ".py",
   "mimetype": "text/x-python",
   "name": "python",
   "nbconvert_exporter": "python",
   "pygments_lexer": "ipython3",
   "version": "3.6.9"
  }
 },
 "nbformat": 4,
 "nbformat_minor": 2
}
